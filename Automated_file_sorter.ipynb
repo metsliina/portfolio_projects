{
 "cells": [
  {
   "cell_type": "markdown",
   "id": "0de2ab6b-3bae-4d69-8b16-9dbbdcd44b8c",
   "metadata": {},
   "source": [
    "Automated file sorter project - sorts files in generated folders based on extension"
   ]
  },
  {
   "cell_type": "code",
   "execution_count": 2,
   "id": "195b111a-0b15-45e6-8f45-c786e78a2093",
   "metadata": {},
   "outputs": [],
   "source": [
    "import os\n",
    "import shutil"
   ]
  },
  {
   "cell_type": "code",
   "execution_count": null,
   "id": "142505cb-9128-4e43-9986-ff037f3e2f8e",
   "metadata": {},
   "outputs": [],
   "source": [
    "# Path where the files are located and where folders will be created\n",
    "path = r\"C:/Users/User_Name/Folder_Name/\""
   ]
  },
  {
   "cell_type": "code",
   "execution_count": null,
   "id": "99ca7005-8b66-439d-82d4-5fccb7e23f89",
   "metadata": {},
   "outputs": [],
   "source": [
    "# Get all file names from the directory\n",
    "file_names = os.listdir(path)\n",
    "\n",
    "# Create a set to hold unique file extensions\n",
    "file_extensions = set()\n",
    "\n",
    "# Populate the set with file extensions (lowercase)\n",
    "for file_name in file_names:\n",
    "    if os.path.isfile(os.path.join(path, file_name)):  # Ensure it's a file, not a directory\n",
    "        extension = os.path.splitext(file_name)[1].lower()\n",
    "        if extension:  # Ensure there is an extension\n",
    "            file_extensions.add(extension)\n",
    "\n",
    "# Create folders for each file type if they don't already exist\n",
    "for ext in file_extensions:\n",
    "    folder_name = ext[1:] + \" files\"  # Remove dot from extension and add ' files'\n",
    "    folder_path = os.path.join(path, folder_name)\n",
    "    if not os.path.exists(folder_path):\n",
    "        os.makedirs(folder_path)\n",
    "        \n",
    "# Move files to their respective folders\n",
    "for file_name in file_names:\n",
    "    # Skip directories\n",
    "    if os.path.isdir(os.path.join(path, file_name)):\n",
    "        continue\n",
    "    # Get the file extension and corresponding folder name\n",
    "    file_extension = os.path.splitext(file_name)[1].lower()\n",
    "    if file_extension:\n",
    "        folder_name = file_extension[1:] + \" files\"\n",
    "        target_folder_path = os.path.join(path, folder_name)\n",
    "\n",
    "        # Full path for the file's current location and the target location\n",
    "        current_file_path = os.path.join(path, file_name)\n",
    "        target_file_path = os.path.join(target_folder_path, file_name)\n",
    "\n",
    "        # Move the file if it's not already in the target folder\n",
    "        if not os.path.exists(target_file_path):\n",
    "            shutil.move(current_file_path, target_file_path)\n",
    "            print(f\"Moved: {file_name} → {target_folder_path}\")\n",
    "        else:\n",
    "            print(f\"Skipping (file already exists in target folder): {file_name}\")\n",
    "\n",
    "print(\"File sorting process completed!\")"
   ]
  },
  {
   "cell_type": "code",
   "execution_count": null,
   "id": "b48ff23d-1337-45d1-a9d9-2c32c2c55d7f",
   "metadata": {},
   "outputs": [],
   "source": []
  },
  {
   "cell_type": "code",
   "execution_count": null,
   "id": "c3c55695-0fce-4df4-8977-bf2654e30bd2",
   "metadata": {},
   "outputs": [],
   "source": []
  },
  {
   "cell_type": "code",
   "execution_count": null,
   "id": "f8d776d6-53f6-4943-b7da-556985efbaa0",
   "metadata": {},
   "outputs": [],
   "source": []
  },
  {
   "cell_type": "code",
   "execution_count": null,
   "id": "a7d2eb69-452a-44c7-b952-0a9c53b95de7",
   "metadata": {},
   "outputs": [],
   "source": []
  },
  {
   "cell_type": "code",
   "execution_count": null,
   "id": "88db996a-9451-4628-8626-508e6471c9b9",
   "metadata": {},
   "outputs": [],
   "source": []
  },
  {
   "cell_type": "code",
   "execution_count": null,
   "id": "cc838233-de63-4bc9-9b13-61b143694c7d",
   "metadata": {},
   "outputs": [],
   "source": []
  }
 ],
 "metadata": {
  "kernelspec": {
   "display_name": "Python 3 (ipykernel)",
   "language": "python",
   "name": "python3"
  },
  "language_info": {
   "codemirror_mode": {
    "name": "ipython",
    "version": 3
   },
   "file_extension": ".py",
   "mimetype": "text/x-python",
   "name": "python",
   "nbconvert_exporter": "python",
   "pygments_lexer": "ipython3",
   "version": "3.12.7"
  }
 },
 "nbformat": 4,
 "nbformat_minor": 5
}
