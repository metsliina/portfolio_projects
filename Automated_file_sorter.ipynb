{
 "cells": [
  {
   "cell_type": "markdown",
   "id": "0de2ab6b-3bae-4d69-8b16-9dbbdcd44b8c",
   "metadata": {},
   "source": [
    "Automated File Sorting with Python: Organizing Files by Extension"
   ]
  },
  {
   "cell_type": "markdown",
   "id": "b823fb89-c0a2-4709-902c-cb0d801388ee",
   "metadata": {},
   "source": [
    "This project automates the process of organizing files into categorized folders based on their extensions using Python. By leveraging the os and shutil libraries, the script scans a specified directory, identifies unique file types, and systematically sorts them into designated subfolders. This eliminates manual file organization, improving workflow efficiency and maintaining a clutter-free workspace.\n",
    "\n",
    "Key skills demonstrated in this project include file handling, directory management, and automation using Python. Potential future enhancements could include adding a user interface, implementing real-time monitoring for automatic sorting, and integrating additional filtering options based on file properties."
   ]
  },
  {
   "cell_type": "code",
   "execution_count": 2,
   "id": "195b111a-0b15-45e6-8f45-c786e78a2093",
   "metadata": {},
   "outputs": [],
   "source": [
    "# Import required libraries\n",
    "import os\n",
    "import shutil"
   ]
  },
  {
   "cell_type": "code",
   "execution_count": 3,
   "id": "142505cb-9128-4e43-9986-ff037f3e2f8e",
   "metadata": {},
   "outputs": [],
   "source": [
    "# Define the directory path where files are located and sorted into folders\n",
    "path = r\"C:/Users/Liina/Desktop/TEST FOR SORTER/\""
   ]
  },
  {
   "cell_type": "code",
   "execution_count": 4,
   "id": "99ca7005-8b66-439d-82d4-5fccb7e23f89",
   "metadata": {
    "scrolled": true
   },
   "outputs": [
    {
     "name": "stdout",
     "output_type": "stream",
     "text": [
      "File sorting process completed!\n"
     ]
    }
   ],
   "source": [
    "# Retrieve all file names from the specified directory\n",
    "file_names = os.listdir(path)\n",
    "\n",
    "# Create a set to store unique file extensions\n",
    "file_extensions = set()\n",
    "\n",
    "# Extract and store file extensions (converted to lowercase)\n",
    "for file_name in file_names:\n",
    "    if os.path.isfile(os.path.join(path, file_name)):  # Ensure it's a file, not a directory\n",
    "        extension = os.path.splitext(file_name)[1].lower()\n",
    "        if extension:  # Ensure the file has an extension\n",
    "            file_extensions.add(extension)\n",
    "\n",
    "# Create a folder for each unique file type if it does not already exist\n",
    "for ext in file_extensions:\n",
    "    folder_name = ext[1:] + \" files\"  # Remove the dot from the extension and append 'files'\n",
    "    folder_path = os.path.join(path, folder_name)\n",
    "    if not os.path.exists(folder_path):\n",
    "        os.makedirs(folder_path)\n",
    "\n",
    "# Move files into their corresponding folders\n",
    "for file_name in file_names:\n",
    "    # Skip directories\n",
    "    if os.path.isdir(os.path.join(path, file_name)):\n",
    "        continue\n",
    "\n",
    "    # Determine the file extension and corresponding folder name\n",
    "    file_extension = os.path.splitext(file_name)[1].lower()\n",
    "    if file_extension:\n",
    "        folder_name = file_extension[1:] + \" files\"\n",
    "        target_folder_path = os.path.join(path, folder_name)\n",
    "\n",
    "        # Define the full paths for the file's current and target locations\n",
    "        current_file_path = os.path.join(path, file_name)\n",
    "        target_file_path = os.path.join(target_folder_path, file_name)\n",
    "\n",
    "        # Move the file if it is not already in the target folder\n",
    "        if not os.path.exists(target_file_path):\n",
    "            shutil.move(current_file_path, target_file_path)\n",
    "            print(f\"Moved: {file_name} → {target_folder_path}\")\n",
    "        else:\n",
    "            print(f\"Skipping (file already exists in target folder): {file_name}\")\n",
    "\n",
    "print(\"File sorting process completed!\")\n"
   ]
  },
  {
   "cell_type": "code",
   "execution_count": null,
   "id": "b48ff23d-1337-45d1-a9d9-2c32c2c55d7f",
   "metadata": {},
   "outputs": [],
   "source": []
  },
  {
   "cell_type": "code",
   "execution_count": null,
   "id": "c3c55695-0fce-4df4-8977-bf2654e30bd2",
   "metadata": {},
   "outputs": [],
   "source": []
  },
  {
   "cell_type": "code",
   "execution_count": null,
   "id": "f8d776d6-53f6-4943-b7da-556985efbaa0",
   "metadata": {},
   "outputs": [],
   "source": []
  },
  {
   "cell_type": "code",
   "execution_count": null,
   "id": "a7d2eb69-452a-44c7-b952-0a9c53b95de7",
   "metadata": {},
   "outputs": [],
   "source": []
  },
  {
   "cell_type": "code",
   "execution_count": null,
   "id": "88db996a-9451-4628-8626-508e6471c9b9",
   "metadata": {},
   "outputs": [],
   "source": []
  },
  {
   "cell_type": "code",
   "execution_count": null,
   "id": "cc838233-de63-4bc9-9b13-61b143694c7d",
   "metadata": {},
   "outputs": [],
   "source": []
  }
 ],
 "metadata": {
  "kernelspec": {
   "display_name": "Python 3 (ipykernel)",
   "language": "python",
   "name": "python3"
  },
  "language_info": {
   "codemirror_mode": {
    "name": "ipython",
    "version": 3
   },
   "file_extension": ".py",
   "mimetype": "text/x-python",
   "name": "python",
   "nbconvert_exporter": "python",
   "pygments_lexer": "ipython3",
   "version": "3.12.7"
  }
 },
 "nbformat": 4,
 "nbformat_minor": 5
}
